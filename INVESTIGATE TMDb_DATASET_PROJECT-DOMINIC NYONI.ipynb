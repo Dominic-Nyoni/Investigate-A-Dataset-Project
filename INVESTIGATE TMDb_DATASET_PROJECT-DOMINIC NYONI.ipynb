{
 "cells": [
  {
   "cell_type": "markdown",
   "metadata": {},
   "source": [
    "\n",
    "\n",
    "# Project: Investigate The Movies Database(TMDb) dataset\n",
    "\n",
    "## Table of Contents\n",
    "<ul>\n",
    "<li><a href=\"#intro\">Introduction</a></li>\n",
    "<li><a href=\"#wrangling\">Data Wrangling</a></li>\n",
    "<li><a href=\"#eda\">Exploratory Data Analysis</a></li>\n",
    "<li><a href=\"#conclusions\">Conclusions</a></li>\n",
    "</ul>"
   ]
  },
  {
   "cell_type": "markdown",
   "metadata": {},
   "source": [
    "<a id='intro'></a>\n",
    "## Introduction\n",
    "\n",
    "> The following is an investigation into the TMDb movie data set. The TMDb data set contains 10000 movies from the The Movies Database(TMDb) which includes user ratings and revenue.\n",
    ">\n"
   ]
  },
  {
   "cell_type": "code",
   "execution_count": 45,
   "metadata": {},
   "outputs": [],
   "source": [
    "import pandas as pd\n",
    "import numpy as np\n",
    "import matplotlib.pyplot as plt\n",
    "import seaborn as sns\n",
    "import calendar\n",
    "%matplotlib inline\n",
    "sns.set_style('darkgrid')\n"
   ]
  },
  {
   "cell_type": "markdown",
   "metadata": {},
   "source": [
    "<a id='wrangling'></a>\n",
    "## Data Wrangling\n",
    "\n",
    "> In this section of the report, the data will be checked for cleanliness, and then trimmed and cleaned for analysis.\n",
    "\n"
   ]
  },
  {
   "cell_type": "markdown",
   "metadata": {},
   "source": [
    ">Firstly,I will familiarize myself with the variables of the data set in order to gain insight of what to explore"
   ]
  },
  {
   "cell_type": "code",
   "execution_count": 10,
   "metadata": {},
   "outputs": [],
   "source": [
    "#read the movies data csv file \n",
    "movies_df=pd.read_csv(\"tmdb-movies.csv\")\n"
   ]
  },
  {
   "cell_type": "code",
   "execution_count": 11,
   "metadata": {},
   "outputs": [
    {
     "data": {
      "text/html": [
       "<div>\n",
       "<style scoped>\n",
       "    .dataframe tbody tr th:only-of-type {\n",
       "        vertical-align: middle;\n",
       "    }\n",
       "\n",
       "    .dataframe tbody tr th {\n",
       "        vertical-align: top;\n",
       "    }\n",
       "\n",
       "    .dataframe thead th {\n",
       "        text-align: right;\n",
       "    }\n",
       "</style>\n",
       "<table border=\"1\" class=\"dataframe\">\n",
       "  <thead>\n",
       "    <tr style=\"text-align: right;\">\n",
       "      <th></th>\n",
       "      <th>id</th>\n",
       "      <th>imdb_id</th>\n",
       "      <th>popularity</th>\n",
       "      <th>budget</th>\n",
       "      <th>revenue</th>\n",
       "      <th>original_title</th>\n",
       "      <th>cast</th>\n",
       "      <th>homepage</th>\n",
       "      <th>director</th>\n",
       "      <th>tagline</th>\n",
       "      <th>...</th>\n",
       "      <th>overview</th>\n",
       "      <th>runtime</th>\n",
       "      <th>genres</th>\n",
       "      <th>production_companies</th>\n",
       "      <th>release_date</th>\n",
       "      <th>vote_count</th>\n",
       "      <th>vote_average</th>\n",
       "      <th>release_year</th>\n",
       "      <th>budget_adj</th>\n",
       "      <th>revenue_adj</th>\n",
       "    </tr>\n",
       "  </thead>\n",
       "  <tbody>\n",
       "    <tr>\n",
       "      <th>0</th>\n",
       "      <td>135397</td>\n",
       "      <td>tt0369610</td>\n",
       "      <td>32.985763</td>\n",
       "      <td>150000000</td>\n",
       "      <td>1513528810</td>\n",
       "      <td>Jurassic World</td>\n",
       "      <td>Chris Pratt|Bryce Dallas Howard|Irrfan Khan|Vi...</td>\n",
       "      <td>http://www.jurassicworld.com/</td>\n",
       "      <td>Colin Trevorrow</td>\n",
       "      <td>The park is open.</td>\n",
       "      <td>...</td>\n",
       "      <td>Twenty-two years after the events of Jurassic ...</td>\n",
       "      <td>124</td>\n",
       "      <td>Action|Adventure|Science Fiction|Thriller</td>\n",
       "      <td>Universal Studios|Amblin Entertainment|Legenda...</td>\n",
       "      <td>6/9/15</td>\n",
       "      <td>5562</td>\n",
       "      <td>6.5</td>\n",
       "      <td>2015</td>\n",
       "      <td>1.379999e+08</td>\n",
       "      <td>1.392446e+09</td>\n",
       "    </tr>\n",
       "    <tr>\n",
       "      <th>1</th>\n",
       "      <td>76341</td>\n",
       "      <td>tt1392190</td>\n",
       "      <td>28.419936</td>\n",
       "      <td>150000000</td>\n",
       "      <td>378436354</td>\n",
       "      <td>Mad Max: Fury Road</td>\n",
       "      <td>Tom Hardy|Charlize Theron|Hugh Keays-Byrne|Nic...</td>\n",
       "      <td>http://www.madmaxmovie.com/</td>\n",
       "      <td>George Miller</td>\n",
       "      <td>What a Lovely Day.</td>\n",
       "      <td>...</td>\n",
       "      <td>An apocalyptic story set in the furthest reach...</td>\n",
       "      <td>120</td>\n",
       "      <td>Action|Adventure|Science Fiction|Thriller</td>\n",
       "      <td>Village Roadshow Pictures|Kennedy Miller Produ...</td>\n",
       "      <td>5/13/15</td>\n",
       "      <td>6185</td>\n",
       "      <td>7.1</td>\n",
       "      <td>2015</td>\n",
       "      <td>1.379999e+08</td>\n",
       "      <td>3.481613e+08</td>\n",
       "    </tr>\n",
       "    <tr>\n",
       "      <th>2</th>\n",
       "      <td>262500</td>\n",
       "      <td>tt2908446</td>\n",
       "      <td>13.112507</td>\n",
       "      <td>110000000</td>\n",
       "      <td>295238201</td>\n",
       "      <td>Insurgent</td>\n",
       "      <td>Shailene Woodley|Theo James|Kate Winslet|Ansel...</td>\n",
       "      <td>http://www.thedivergentseries.movie/#insurgent</td>\n",
       "      <td>Robert Schwentke</td>\n",
       "      <td>One Choice Can Destroy You</td>\n",
       "      <td>...</td>\n",
       "      <td>Beatrice Prior must confront her inner demons ...</td>\n",
       "      <td>119</td>\n",
       "      <td>Adventure|Science Fiction|Thriller</td>\n",
       "      <td>Summit Entertainment|Mandeville Films|Red Wago...</td>\n",
       "      <td>3/18/15</td>\n",
       "      <td>2480</td>\n",
       "      <td>6.3</td>\n",
       "      <td>2015</td>\n",
       "      <td>1.012000e+08</td>\n",
       "      <td>2.716190e+08</td>\n",
       "    </tr>\n",
       "    <tr>\n",
       "      <th>3</th>\n",
       "      <td>140607</td>\n",
       "      <td>tt2488496</td>\n",
       "      <td>11.173104</td>\n",
       "      <td>200000000</td>\n",
       "      <td>2068178225</td>\n",
       "      <td>Star Wars: The Force Awakens</td>\n",
       "      <td>Harrison Ford|Mark Hamill|Carrie Fisher|Adam D...</td>\n",
       "      <td>http://www.starwars.com/films/star-wars-episod...</td>\n",
       "      <td>J.J. Abrams</td>\n",
       "      <td>Every generation has a story.</td>\n",
       "      <td>...</td>\n",
       "      <td>Thirty years after defeating the Galactic Empi...</td>\n",
       "      <td>136</td>\n",
       "      <td>Action|Adventure|Science Fiction|Fantasy</td>\n",
       "      <td>Lucasfilm|Truenorth Productions|Bad Robot</td>\n",
       "      <td>12/15/15</td>\n",
       "      <td>5292</td>\n",
       "      <td>7.5</td>\n",
       "      <td>2015</td>\n",
       "      <td>1.839999e+08</td>\n",
       "      <td>1.902723e+09</td>\n",
       "    </tr>\n",
       "    <tr>\n",
       "      <th>4</th>\n",
       "      <td>168259</td>\n",
       "      <td>tt2820852</td>\n",
       "      <td>9.335014</td>\n",
       "      <td>190000000</td>\n",
       "      <td>1506249360</td>\n",
       "      <td>Furious 7</td>\n",
       "      <td>Vin Diesel|Paul Walker|Jason Statham|Michelle ...</td>\n",
       "      <td>http://www.furious7.com/</td>\n",
       "      <td>James Wan</td>\n",
       "      <td>Vengeance Hits Home</td>\n",
       "      <td>...</td>\n",
       "      <td>Deckard Shaw seeks revenge against Dominic Tor...</td>\n",
       "      <td>137</td>\n",
       "      <td>Action|Crime|Thriller</td>\n",
       "      <td>Universal Pictures|Original Film|Media Rights ...</td>\n",
       "      <td>4/1/15</td>\n",
       "      <td>2947</td>\n",
       "      <td>7.3</td>\n",
       "      <td>2015</td>\n",
       "      <td>1.747999e+08</td>\n",
       "      <td>1.385749e+09</td>\n",
       "    </tr>\n",
       "  </tbody>\n",
       "</table>\n",
       "<p>5 rows × 21 columns</p>\n",
       "</div>"
      ],
      "text/plain": [
       "       id    imdb_id  popularity     budget     revenue  \\\n",
       "0  135397  tt0369610   32.985763  150000000  1513528810   \n",
       "1   76341  tt1392190   28.419936  150000000   378436354   \n",
       "2  262500  tt2908446   13.112507  110000000   295238201   \n",
       "3  140607  tt2488496   11.173104  200000000  2068178225   \n",
       "4  168259  tt2820852    9.335014  190000000  1506249360   \n",
       "\n",
       "                 original_title  \\\n",
       "0                Jurassic World   \n",
       "1            Mad Max: Fury Road   \n",
       "2                     Insurgent   \n",
       "3  Star Wars: The Force Awakens   \n",
       "4                     Furious 7   \n",
       "\n",
       "                                                cast  \\\n",
       "0  Chris Pratt|Bryce Dallas Howard|Irrfan Khan|Vi...   \n",
       "1  Tom Hardy|Charlize Theron|Hugh Keays-Byrne|Nic...   \n",
       "2  Shailene Woodley|Theo James|Kate Winslet|Ansel...   \n",
       "3  Harrison Ford|Mark Hamill|Carrie Fisher|Adam D...   \n",
       "4  Vin Diesel|Paul Walker|Jason Statham|Michelle ...   \n",
       "\n",
       "                                            homepage          director  \\\n",
       "0                      http://www.jurassicworld.com/   Colin Trevorrow   \n",
       "1                        http://www.madmaxmovie.com/     George Miller   \n",
       "2     http://www.thedivergentseries.movie/#insurgent  Robert Schwentke   \n",
       "3  http://www.starwars.com/films/star-wars-episod...       J.J. Abrams   \n",
       "4                           http://www.furious7.com/         James Wan   \n",
       "\n",
       "                         tagline  ...  \\\n",
       "0              The park is open.  ...   \n",
       "1             What a Lovely Day.  ...   \n",
       "2     One Choice Can Destroy You  ...   \n",
       "3  Every generation has a story.  ...   \n",
       "4            Vengeance Hits Home  ...   \n",
       "\n",
       "                                            overview runtime  \\\n",
       "0  Twenty-two years after the events of Jurassic ...     124   \n",
       "1  An apocalyptic story set in the furthest reach...     120   \n",
       "2  Beatrice Prior must confront her inner demons ...     119   \n",
       "3  Thirty years after defeating the Galactic Empi...     136   \n",
       "4  Deckard Shaw seeks revenge against Dominic Tor...     137   \n",
       "\n",
       "                                      genres  \\\n",
       "0  Action|Adventure|Science Fiction|Thriller   \n",
       "1  Action|Adventure|Science Fiction|Thriller   \n",
       "2         Adventure|Science Fiction|Thriller   \n",
       "3   Action|Adventure|Science Fiction|Fantasy   \n",
       "4                      Action|Crime|Thriller   \n",
       "\n",
       "                                production_companies release_date vote_count  \\\n",
       "0  Universal Studios|Amblin Entertainment|Legenda...       6/9/15       5562   \n",
       "1  Village Roadshow Pictures|Kennedy Miller Produ...      5/13/15       6185   \n",
       "2  Summit Entertainment|Mandeville Films|Red Wago...      3/18/15       2480   \n",
       "3          Lucasfilm|Truenorth Productions|Bad Robot     12/15/15       5292   \n",
       "4  Universal Pictures|Original Film|Media Rights ...       4/1/15       2947   \n",
       "\n",
       "   vote_average  release_year    budget_adj   revenue_adj  \n",
       "0           6.5          2015  1.379999e+08  1.392446e+09  \n",
       "1           7.1          2015  1.379999e+08  3.481613e+08  \n",
       "2           6.3          2015  1.012000e+08  2.716190e+08  \n",
       "3           7.5          2015  1.839999e+08  1.902723e+09  \n",
       "4           7.3          2015  1.747999e+08  1.385749e+09  \n",
       "\n",
       "[5 rows x 21 columns]"
      ]
     },
     "execution_count": 11,
     "metadata": {},
     "output_type": "execute_result"
    }
   ],
   "source": [
    "#get a snapshot of the first five rows in the dataset\n",
    "movies_df.head()\n"
   ]
  },
  {
   "cell_type": "markdown",
   "metadata": {},
   "source": [
    ">>After familiarizing myself with the dataset,I seek to answer the following questions:\n",
    "- What is the average movie popularity from year to year\n",
    "- What is average budget of movies from year to year\n",
    "- What is the average revenue from year to year\n",
    "- What is the average profitability of movies from year to year\n",
    "- What genres are the most popular from year to year\n",
    "- What genres are the most profitable from year to year\n",
    "- Which release months are the most profitable from year to year\n",
    "- Which average runtime is the most profitable rom year to year\n",
    "\n",
    "\n",
    "\n",
    "\n"
   ]
  },
  {
   "cell_type": "markdown",
   "metadata": {},
   "source": [
    ">>After coming up with research questions,I will start off by trimming off my dataset before cleaning it.This will allow me to narrow down my cleaning efforts only to columns that I will use in the analysis.\n",
    ">\n",
    ">>I begin with inspecting the current frame of the dataframe.This will allow me to check whether trimming of columns was actually successful.\n"
   ]
  },
  {
   "cell_type": "code",
   "execution_count": 12,
   "metadata": {},
   "outputs": [
    {
     "name": "stdout",
     "output_type": "stream",
     "text": [
      "<class 'pandas.core.frame.DataFrame'>\n",
      "RangeIndex: 10866 entries, 0 to 10865\n",
      "Data columns (total 21 columns):\n",
      " #   Column                Non-Null Count  Dtype  \n",
      "---  ------                --------------  -----  \n",
      " 0   id                    10866 non-null  int64  \n",
      " 1   imdb_id               10856 non-null  object \n",
      " 2   popularity            10866 non-null  float64\n",
      " 3   budget                10866 non-null  int64  \n",
      " 4   revenue               10866 non-null  int64  \n",
      " 5   original_title        10866 non-null  object \n",
      " 6   cast                  10790 non-null  object \n",
      " 7   homepage              2936 non-null   object \n",
      " 8   director              10822 non-null  object \n",
      " 9   tagline               8042 non-null   object \n",
      " 10  keywords              9373 non-null   object \n",
      " 11  overview              10862 non-null  object \n",
      " 12  runtime               10866 non-null  int64  \n",
      " 13  genres                10843 non-null  object \n",
      " 14  production_companies  9836 non-null   object \n",
      " 15  release_date          10866 non-null  object \n",
      " 16  vote_count            10866 non-null  int64  \n",
      " 17  vote_average          10866 non-null  float64\n",
      " 18  release_year          10866 non-null  int64  \n",
      " 19  budget_adj            10866 non-null  float64\n",
      " 20  revenue_adj           10866 non-null  float64\n",
      "dtypes: float64(4), int64(6), object(11)\n",
      "memory usage: 1.7+ MB\n"
     ]
    }
   ],
   "source": [
    "#inspect the frame of the data set\n",
    "movies_df.info()"
   ]
  },
  {
   "cell_type": "markdown",
   "metadata": {},
   "source": [
    ">>I have identified the following columns for trimming:'id','imdb_id,'budget','revenue' ,'original_title',homepage','cast','director' ,'tagline','keywords','overview','production_companies','vote_count' and 'vote_average'"
   ]
  },
  {
   "cell_type": "code",
   "execution_count": 13,
   "metadata": {},
   "outputs": [],
   "source": [
    "#drop columns from the dataset\n",
    "movies_df.drop(['id','budget','revenue' ,'imdb_id','original_title', 'homepage','cast','director' ,'tagline','keywords','overview','production_companies','vote_count','vote_average'], axis=1, inplace=True)"
   ]
  },
  {
   "cell_type": "markdown",
   "metadata": {},
   "source": [
    ">Let us check if the columns have been successfully dropped"
   ]
  },
  {
   "cell_type": "code",
   "execution_count": 14,
   "metadata": {},
   "outputs": [
    {
     "name": "stdout",
     "output_type": "stream",
     "text": [
      "<class 'pandas.core.frame.DataFrame'>\n",
      "RangeIndex: 10866 entries, 0 to 10865\n",
      "Data columns (total 7 columns):\n",
      " #   Column        Non-Null Count  Dtype  \n",
      "---  ------        --------------  -----  \n",
      " 0   popularity    10866 non-null  float64\n",
      " 1   runtime       10866 non-null  int64  \n",
      " 2   genres        10843 non-null  object \n",
      " 3   release_date  10866 non-null  object \n",
      " 4   release_year  10866 non-null  int64  \n",
      " 5   budget_adj    10866 non-null  float64\n",
      " 6   revenue_adj   10866 non-null  float64\n",
      "dtypes: float64(3), int64(2), object(2)\n",
      "memory usage: 594.4+ KB\n"
     ]
    }
   ],
   "source": [
    "movies_df.info()"
   ]
  },
  {
   "cell_type": "markdown",
   "metadata": {},
   "source": [
    ">>The columns have been successfully dropped.\n",
    ">\n",
    ">>The data will now be checked for cleanliness"
   ]
  },
  {
   "cell_type": "markdown",
   "metadata": {},
   "source": [
    ">Let's check for missing values"
   ]
  },
  {
   "cell_type": "code",
   "execution_count": 15,
   "metadata": {},
   "outputs": [
    {
     "data": {
      "text/plain": [
       "popularity       0\n",
       "runtime          0\n",
       "genres          23\n",
       "release_date     0\n",
       "release_year     0\n",
       "budget_adj       0\n",
       "revenue_adj      0\n",
       "dtype: int64"
      ]
     },
     "execution_count": 15,
     "metadata": {},
     "output_type": "execute_result"
    }
   ],
   "source": [
    "#number of missing values in dataset\n",
    "movies_df.isnull().sum()"
   ]
  },
  {
   "cell_type": "markdown",
   "metadata": {},
   "source": [
    ">All but one column i.e. 'genre' have no missing values.However for columns of revenue,budget, and runtime rows that contain '0' will be treated as missing values.So let us check if those columns have rows with value of '0'"
   ]
  },
  {
   "cell_type": "code",
   "execution_count": 19,
   "metadata": {},
   "outputs": [
    {
     "data": {
      "text/plain": [
       "5696"
      ]
     },
     "execution_count": 19,
     "metadata": {},
     "output_type": "execute_result"
    }
   ],
   "source": [
    "#check the number of rows with budget of 0\n",
    "len(movies_df.query('budget_adj==0'))\n"
   ]
  },
  {
   "cell_type": "code",
   "execution_count": 20,
   "metadata": {},
   "outputs": [
    {
     "data": {
      "text/plain": [
       "6016"
      ]
     },
     "execution_count": 20,
     "metadata": {},
     "output_type": "execute_result"
    }
   ],
   "source": [
    "#check the number of rows with revenue of 0\n",
    "len(movies_df.query('revenue_adj==0'))"
   ]
  },
  {
   "cell_type": "code",
   "execution_count": 22,
   "metadata": {},
   "outputs": [
    {
     "data": {
      "text/plain": [
       "31"
      ]
     },
     "execution_count": 22,
     "metadata": {},
     "output_type": "execute_result"
    }
   ],
   "source": [
    "#check the number of rows with runtime of 0\n",
    "len(movies_df.query('runtime==0'))"
   ]
  },
  {
   "cell_type": "markdown",
   "metadata": {},
   "source": [
    ">It appears over half of the rows have no reported budgets and/revenues\n",
    ">>"
   ]
  },
  {
   "cell_type": "markdown",
   "metadata": {},
   "source": [
    ">We will now check for duplicates"
   ]
  },
  {
   "cell_type": "code",
   "execution_count": 23,
   "metadata": {},
   "outputs": [
    {
     "data": {
      "text/plain": [
       "1"
      ]
     },
     "execution_count": 23,
     "metadata": {},
     "output_type": "execute_result"
    }
   ],
   "source": [
    "#checks for total duplicated rows\n",
    "sum(movies_df.duplicated())"
   ]
  },
  {
   "cell_type": "markdown",
   "metadata": {},
   "source": [
    "Let us now inspect the data types to understand whether we may need to change to a format that will be easier to work with"
   ]
  },
  {
   "cell_type": "code",
   "execution_count": 25,
   "metadata": {},
   "outputs": [
    {
     "data": {
      "text/plain": [
       "popularity      float64\n",
       "runtime           int64\n",
       "genres           object\n",
       "release_date     object\n",
       "release_year      int64\n",
       "budget_adj      float64\n",
       "revenue_adj     float64\n",
       "dtype: object"
      ]
     },
     "execution_count": 25,
     "metadata": {},
     "output_type": "execute_result"
    }
   ],
   "source": [
    "#checks for data types of all columns in the data frame\n",
    "movies_df.dtypes"
   ]
  },
  {
   "cell_type": "markdown",
   "metadata": {},
   "source": [
    ">let us inspect the release years column to find opportunities to transform the data to values easy to work with since most of our analysis will be done from year to year"
   ]
  },
  {
   "cell_type": "code",
   "execution_count": 58,
   "metadata": {},
   "outputs": [
    {
     "data": {
      "text/plain": [
       "count    3854.000000\n",
       "mean     2001.261028\n",
       "std        11.282575\n",
       "min      1960.000000\n",
       "25%      1995.000000\n",
       "50%      2004.000000\n",
       "75%      2010.000000\n",
       "max      2015.000000\n",
       "Name: release_year, dtype: float64"
      ]
     },
     "execution_count": 58,
     "metadata": {},
     "output_type": "execute_result"
    }
   ],
   "source": [
    "movies_df['release_year'].describe()"
   ]
  },
  {
   "cell_type": "markdown",
   "metadata": {},
   "source": [
    ">>Key observation here:data set starts from the year 1960 to 2015"
   ]
  },
  {
   "cell_type": "markdown",
   "metadata": {},
   "source": [
    ">>Missing values-The anaylsis will take the following approach:missing values that constitute less or equal to 20% of data set will be replaced with mean where appropriate or a new value;missing values that are over half of the dataset will be dropped\n",
    "- The 'genre' column has 23 missing values.They will be replaced with a new value i.e. 'unspecified'\n",
    "- budget and revenue have over half rows with 0.They will be dropped\n",
    "- runtime has 31 rows with 0.They will be replace with mean\n",
    ">\n",
    ">>Duplicates\n",
    "- there is one duplicated row.It will be dropped\n",
    ">\n",
    ">>Datatypes\n",
    "- release_date will be changed to datetime in order to extract the month value\n",
    ">\n",
    ">>Other changes to be implemented\n",
    "- we assume revenue and budget are in dollars.We will convert these to millions in order to trim the size of the figures\n",
    "- A new column for release month will be created as the release month is a key factor in answering one of our research questions\n",
    "- A new column for profit will be created since profit is central to our analysis\n",
    "- A new column for movie decade will be created.This is because,It would be easier to group release years of movies into decades as opposed to analysing each year individually.Thus,movies will be grouped as such:the 60s,the 70s,the 80s,the 90s,early 2000s and 2010 to present"
   ]
  },
  {
   "cell_type": "code",
   "execution_count": 27,
   "metadata": {},
   "outputs": [],
   "source": [
    "#drop all rows with no recorded budget \n",
    "rows_missing_budget=movies_df.query('budget_adj==0')\n",
    "movies_df=movies_df.drop(rows_missing_budget.index,axis=0)"
   ]
  },
  {
   "cell_type": "code",
   "execution_count": 32,
   "metadata": {},
   "outputs": [
    {
     "data": {
      "text/plain": [
       "0"
      ]
     },
     "execution_count": 32,
     "metadata": {},
     "output_type": "execute_result"
    }
   ],
   "source": [
    "#check to see if rows have been successfully dropped\n",
    "len(movies_df.query('budget_adj==0'))"
   ]
  },
  {
   "cell_type": "code",
   "execution_count": 30,
   "metadata": {},
   "outputs": [],
   "source": [
    "#drop all rows with no recorded revenue\n",
    "rows_missing_revenue=movies_df.query('revenue_adj==0')\n",
    "movies_df=movies_df.drop(rows_missing_revenue.index,axis=0)"
   ]
  },
  {
   "cell_type": "code",
   "execution_count": 33,
   "metadata": {},
   "outputs": [
    {
     "data": {
      "text/plain": [
       "0"
      ]
     },
     "execution_count": 33,
     "metadata": {},
     "output_type": "execute_result"
    }
   ],
   "source": [
    "#check to see if rows have been successfully dropped\n",
    "len(movies_df.query('revenue_adj==0'))"
   ]
  },
  {
   "cell_type": "markdown",
   "metadata": {},
   "source": [
    ">check to see if runtime still has missing values or they have been dropped during cleaning of budget and revenue\n"
   ]
  },
  {
   "cell_type": "code",
   "execution_count": 31,
   "metadata": {},
   "outputs": [
    {
     "data": {
      "text/plain": [
       "0"
      ]
     },
     "execution_count": 31,
     "metadata": {},
     "output_type": "execute_result"
    }
   ],
   "source": [
    "#check the number of rows with runtime of 0\n",
    "len(movies_df.query('runtime==0'))"
   ]
  },
  {
   "cell_type": "markdown",
   "metadata": {},
   "source": [
    ">runtime rows with 0 have been dropped so there is no need to replace them with mean anymore.\n",
    ">Let us now replace missing genres with 'unspecified'"
   ]
  },
  {
   "cell_type": "code",
   "execution_count": 35,
   "metadata": {},
   "outputs": [],
   "source": [
    "#fill missing genres with 'unspecified'\n",
    "movies_df['genres']=movies_df['genres'].replace(np.nan,'unspecified')"
   ]
  },
  {
   "cell_type": "code",
   "execution_count": 36,
   "metadata": {},
   "outputs": [
    {
     "data": {
      "text/plain": [
       "0"
      ]
     },
     "execution_count": 36,
     "metadata": {},
     "output_type": "execute_result"
    }
   ],
   "source": [
    "#check to see if filling in of missing values hae been successful\n",
    "movies_df['genres'].isnull().sum()"
   ]
  },
  {
   "cell_type": "markdown",
   "metadata": {},
   "source": [
    "lets us check if we still have duplicated rows or they have been dropped already"
   ]
  },
  {
   "cell_type": "code",
   "execution_count": 37,
   "metadata": {},
   "outputs": [
    {
     "data": {
      "text/plain": [
       "1"
      ]
     },
     "execution_count": 37,
     "metadata": {},
     "output_type": "execute_result"
    }
   ],
   "source": [
    "#checks for total duplicated rows\n",
    "sum(movies_df.duplicated())"
   ]
  },
  {
   "cell_type": "code",
   "execution_count": 39,
   "metadata": {},
   "outputs": [],
   "source": [
    "#drop dulpicated rows\n",
    "movies_df.drop_duplicates(inplace=True)"
   ]
  },
  {
   "cell_type": "code",
   "execution_count": 40,
   "metadata": {},
   "outputs": [
    {
     "data": {
      "text/plain": [
       "0"
      ]
     },
     "execution_count": 40,
     "metadata": {},
     "output_type": "execute_result"
    }
   ],
   "source": [
    "#check to see if duplicated rows have been successfully dropped\n",
    "sum(movies_df.duplicated())"
   ]
  },
  {
   "cell_type": "code",
   "execution_count": 64,
   "metadata": {},
   "outputs": [
    {
     "data": {
      "text/plain": [
       "(3854, 9)"
      ]
     },
     "execution_count": 64,
     "metadata": {},
     "output_type": "execute_result"
    }
   ],
   "source": [
    "#check the new shape of data frame\n",
    "movies_df.shape"
   ]
  },
  {
   "cell_type": "markdown",
   "metadata": {},
   "source": [
    ">release date will now be changed to datetime datatype in order to extract month and create new release month column"
   ]
  },
  {
   "cell_type": "code",
   "execution_count": 46,
   "metadata": {},
   "outputs": [],
   "source": [
    "#release_date will be converted to datetime\n",
    "movies_df['release_date']=pd.to_datetime(movies_df['release_date'],format='%m/%d/%y')\n"
   ]
  },
  {
   "cell_type": "code",
   "execution_count": 47,
   "metadata": {},
   "outputs": [],
   "source": [
    "#a new column for release month will be created\n",
    "movies_df['release_month']=pd.DatetimeIndex(movies_df['release_date']).month"
   ]
  },
  {
   "cell_type": "code",
   "execution_count": 48,
   "metadata": {},
   "outputs": [],
   "source": [
    "#convert month ints into month name\n",
    "movies_df['release_month']=movies_df['release_month'].apply(lambda x: calendar.month_abbr[x])"
   ]
  },
  {
   "cell_type": "markdown",
   "metadata": {},
   "source": [
    "The code above for converting month ints into month name was taken from [this stakeoverflow answer](https://stackoverflow.com/questions/37625334/python-pandas-convert-month-int-to-month-name)"
   ]
  },
  {
   "cell_type": "code",
   "execution_count": 49,
   "metadata": {},
   "outputs": [
    {
     "data": {
      "text/html": [
       "<div>\n",
       "<style scoped>\n",
       "    .dataframe tbody tr th:only-of-type {\n",
       "        vertical-align: middle;\n",
       "    }\n",
       "\n",
       "    .dataframe tbody tr th {\n",
       "        vertical-align: top;\n",
       "    }\n",
       "\n",
       "    .dataframe thead th {\n",
       "        text-align: right;\n",
       "    }\n",
       "</style>\n",
       "<table border=\"1\" class=\"dataframe\">\n",
       "  <thead>\n",
       "    <tr style=\"text-align: right;\">\n",
       "      <th></th>\n",
       "      <th>popularity</th>\n",
       "      <th>runtime</th>\n",
       "      <th>genres</th>\n",
       "      <th>release_date</th>\n",
       "      <th>release_year</th>\n",
       "      <th>budget_adj</th>\n",
       "      <th>revenue_adj</th>\n",
       "      <th>release_month</th>\n",
       "    </tr>\n",
       "  </thead>\n",
       "  <tbody>\n",
       "    <tr>\n",
       "      <th>0</th>\n",
       "      <td>32.985763</td>\n",
       "      <td>124</td>\n",
       "      <td>Action|Adventure|Science Fiction|Thriller</td>\n",
       "      <td>2015-06-09</td>\n",
       "      <td>2015</td>\n",
       "      <td>1.379999e+08</td>\n",
       "      <td>1.392446e+09</td>\n",
       "      <td>Jun</td>\n",
       "    </tr>\n",
       "    <tr>\n",
       "      <th>1</th>\n",
       "      <td>28.419936</td>\n",
       "      <td>120</td>\n",
       "      <td>Action|Adventure|Science Fiction|Thriller</td>\n",
       "      <td>2015-05-13</td>\n",
       "      <td>2015</td>\n",
       "      <td>1.379999e+08</td>\n",
       "      <td>3.481613e+08</td>\n",
       "      <td>May</td>\n",
       "    </tr>\n",
       "    <tr>\n",
       "      <th>2</th>\n",
       "      <td>13.112507</td>\n",
       "      <td>119</td>\n",
       "      <td>Adventure|Science Fiction|Thriller</td>\n",
       "      <td>2015-03-18</td>\n",
       "      <td>2015</td>\n",
       "      <td>1.012000e+08</td>\n",
       "      <td>2.716190e+08</td>\n",
       "      <td>Mar</td>\n",
       "    </tr>\n",
       "  </tbody>\n",
       "</table>\n",
       "</div>"
      ],
      "text/plain": [
       "   popularity  runtime                                     genres  \\\n",
       "0   32.985763      124  Action|Adventure|Science Fiction|Thriller   \n",
       "1   28.419936      120  Action|Adventure|Science Fiction|Thriller   \n",
       "2   13.112507      119         Adventure|Science Fiction|Thriller   \n",
       "\n",
       "  release_date  release_year    budget_adj   revenue_adj release_month  \n",
       "0   2015-06-09          2015  1.379999e+08  1.392446e+09           Jun  \n",
       "1   2015-05-13          2015  1.379999e+08  3.481613e+08           May  \n",
       "2   2015-03-18          2015  1.012000e+08  2.716190e+08           Mar  "
      ]
     },
     "execution_count": 49,
     "metadata": {},
     "output_type": "execute_result"
    }
   ],
   "source": [
    "#check to see if changes have been successfull implemented\n",
    "movies_df.head(3)"
   ]
  },
  {
   "cell_type": "markdown",
   "metadata": {},
   "source": [
    ">release_date column will now be dropped since it is no longer relevant to our analysis"
   ]
  },
  {
   "cell_type": "code",
   "execution_count": 50,
   "metadata": {},
   "outputs": [],
   "source": [
    "#drop the release_date column\n",
    "movies_df.drop(['release_date'], axis=1, inplace=True)"
   ]
  },
  {
   "cell_type": "code",
   "execution_count": 51,
   "metadata": {},
   "outputs": [
    {
     "data": {
      "text/html": [
       "<div>\n",
       "<style scoped>\n",
       "    .dataframe tbody tr th:only-of-type {\n",
       "        vertical-align: middle;\n",
       "    }\n",
       "\n",
       "    .dataframe tbody tr th {\n",
       "        vertical-align: top;\n",
       "    }\n",
       "\n",
       "    .dataframe thead th {\n",
       "        text-align: right;\n",
       "    }\n",
       "</style>\n",
       "<table border=\"1\" class=\"dataframe\">\n",
       "  <thead>\n",
       "    <tr style=\"text-align: right;\">\n",
       "      <th></th>\n",
       "      <th>popularity</th>\n",
       "      <th>runtime</th>\n",
       "      <th>genres</th>\n",
       "      <th>release_year</th>\n",
       "      <th>budget_adj</th>\n",
       "      <th>revenue_adj</th>\n",
       "      <th>release_month</th>\n",
       "    </tr>\n",
       "  </thead>\n",
       "  <tbody>\n",
       "    <tr>\n",
       "      <th>0</th>\n",
       "      <td>32.985763</td>\n",
       "      <td>124</td>\n",
       "      <td>Action|Adventure|Science Fiction|Thriller</td>\n",
       "      <td>2015</td>\n",
       "      <td>1.379999e+08</td>\n",
       "      <td>1.392446e+09</td>\n",
       "      <td>Jun</td>\n",
       "    </tr>\n",
       "    <tr>\n",
       "      <th>1</th>\n",
       "      <td>28.419936</td>\n",
       "      <td>120</td>\n",
       "      <td>Action|Adventure|Science Fiction|Thriller</td>\n",
       "      <td>2015</td>\n",
       "      <td>1.379999e+08</td>\n",
       "      <td>3.481613e+08</td>\n",
       "      <td>May</td>\n",
       "    </tr>\n",
       "    <tr>\n",
       "      <th>2</th>\n",
       "      <td>13.112507</td>\n",
       "      <td>119</td>\n",
       "      <td>Adventure|Science Fiction|Thriller</td>\n",
       "      <td>2015</td>\n",
       "      <td>1.012000e+08</td>\n",
       "      <td>2.716190e+08</td>\n",
       "      <td>Mar</td>\n",
       "    </tr>\n",
       "  </tbody>\n",
       "</table>\n",
       "</div>"
      ],
      "text/plain": [
       "   popularity  runtime                                     genres  \\\n",
       "0   32.985763      124  Action|Adventure|Science Fiction|Thriller   \n",
       "1   28.419936      120  Action|Adventure|Science Fiction|Thriller   \n",
       "2   13.112507      119         Adventure|Science Fiction|Thriller   \n",
       "\n",
       "   release_year    budget_adj   revenue_adj release_month  \n",
       "0          2015  1.379999e+08  1.392446e+09           Jun  \n",
       "1          2015  1.379999e+08  3.481613e+08           May  \n",
       "2          2015  1.012000e+08  2.716190e+08           Mar  "
      ]
     },
     "execution_count": 51,
     "metadata": {},
     "output_type": "execute_result"
    }
   ],
   "source": [
    "#check to see if changes implemented\n",
    "movies_df.head(3)"
   ]
  },
  {
   "cell_type": "markdown",
   "metadata": {},
   "source": [
    ">revenue and budget columns will be turned to millions in order to trim the long figures"
   ]
  },
  {
   "cell_type": "code",
   "execution_count": 52,
   "metadata": {},
   "outputs": [],
   "source": [
    "#budget and revenue values will be divided by 1000000 to convert the figures into millions\n",
    "movies_df['budget_adj']=(movies_df['budget_adj']/1000000).round(2)\n",
    "movies_df['revenue_adj']=(movies_df['revenue_adj']/1000000).round(2)"
   ]
  },
  {
   "cell_type": "code",
   "execution_count": 53,
   "metadata": {},
   "outputs": [
    {
     "data": {
      "text/html": [
       "<div>\n",
       "<style scoped>\n",
       "    .dataframe tbody tr th:only-of-type {\n",
       "        vertical-align: middle;\n",
       "    }\n",
       "\n",
       "    .dataframe tbody tr th {\n",
       "        vertical-align: top;\n",
       "    }\n",
       "\n",
       "    .dataframe thead th {\n",
       "        text-align: right;\n",
       "    }\n",
       "</style>\n",
       "<table border=\"1\" class=\"dataframe\">\n",
       "  <thead>\n",
       "    <tr style=\"text-align: right;\">\n",
       "      <th></th>\n",
       "      <th>popularity</th>\n",
       "      <th>runtime</th>\n",
       "      <th>genres</th>\n",
       "      <th>release_year</th>\n",
       "      <th>budget_adj</th>\n",
       "      <th>revenue_adj</th>\n",
       "      <th>release_month</th>\n",
       "    </tr>\n",
       "  </thead>\n",
       "  <tbody>\n",
       "    <tr>\n",
       "      <th>0</th>\n",
       "      <td>32.985763</td>\n",
       "      <td>124</td>\n",
       "      <td>Action|Adventure|Science Fiction|Thriller</td>\n",
       "      <td>2015</td>\n",
       "      <td>138.0</td>\n",
       "      <td>1392.45</td>\n",
       "      <td>Jun</td>\n",
       "    </tr>\n",
       "    <tr>\n",
       "      <th>1</th>\n",
       "      <td>28.419936</td>\n",
       "      <td>120</td>\n",
       "      <td>Action|Adventure|Science Fiction|Thriller</td>\n",
       "      <td>2015</td>\n",
       "      <td>138.0</td>\n",
       "      <td>348.16</td>\n",
       "      <td>May</td>\n",
       "    </tr>\n",
       "  </tbody>\n",
       "</table>\n",
       "</div>"
      ],
      "text/plain": [
       "   popularity  runtime                                     genres  \\\n",
       "0   32.985763      124  Action|Adventure|Science Fiction|Thriller   \n",
       "1   28.419936      120  Action|Adventure|Science Fiction|Thriller   \n",
       "\n",
       "   release_year  budget_adj  revenue_adj release_month  \n",
       "0          2015       138.0      1392.45           Jun  \n",
       "1          2015       138.0       348.16           May  "
      ]
     },
     "execution_count": 53,
     "metadata": {},
     "output_type": "execute_result"
    }
   ],
   "source": [
    "#check to see if changes are implemented\n",
    "movies_df.head(2)"
   ]
  },
  {
   "cell_type": "markdown",
   "metadata": {},
   "source": [
    ">let us create a new column for profit"
   ]
  },
  {
   "cell_type": "code",
   "execution_count": 55,
   "metadata": {},
   "outputs": [],
   "source": [
    "#create column for profit\n",
    "movies_df['profit']=movies_df['revenue_adj']-movies_df['budget_adj']"
   ]
  },
  {
   "cell_type": "code",
   "execution_count": 63,
   "metadata": {},
   "outputs": [
    {
     "data": {
      "text/plain": [
       "count    3854.000000\n",
       "mean       92.824632\n",
       "std       194.071335\n",
       "min      -413.910000\n",
       "25%        -1.500000\n",
       "50%        27.370000\n",
       "75%       107.457500\n",
       "max      2750.130000\n",
       "Name: profit, dtype: float64"
      ]
     },
     "execution_count": 63,
     "metadata": {},
     "output_type": "execute_result"
    }
   ],
   "source": [
    "#inspect the profit column\n",
    "movies_df['profit'].describe()"
   ]
  },
  {
   "cell_type": "code",
   "execution_count": 56,
   "metadata": {},
   "outputs": [
    {
     "data": {
      "text/html": [
       "<div>\n",
       "<style scoped>\n",
       "    .dataframe tbody tr th:only-of-type {\n",
       "        vertical-align: middle;\n",
       "    }\n",
       "\n",
       "    .dataframe tbody tr th {\n",
       "        vertical-align: top;\n",
       "    }\n",
       "\n",
       "    .dataframe thead th {\n",
       "        text-align: right;\n",
       "    }\n",
       "</style>\n",
       "<table border=\"1\" class=\"dataframe\">\n",
       "  <thead>\n",
       "    <tr style=\"text-align: right;\">\n",
       "      <th></th>\n",
       "      <th>popularity</th>\n",
       "      <th>runtime</th>\n",
       "      <th>genres</th>\n",
       "      <th>release_year</th>\n",
       "      <th>budget_adj</th>\n",
       "      <th>revenue_adj</th>\n",
       "      <th>release_month</th>\n",
       "      <th>profit</th>\n",
       "    </tr>\n",
       "  </thead>\n",
       "  <tbody>\n",
       "    <tr>\n",
       "      <th>0</th>\n",
       "      <td>32.985763</td>\n",
       "      <td>124</td>\n",
       "      <td>Action|Adventure|Science Fiction|Thriller</td>\n",
       "      <td>2015</td>\n",
       "      <td>138.0</td>\n",
       "      <td>1392.45</td>\n",
       "      <td>Jun</td>\n",
       "      <td>1254.45</td>\n",
       "    </tr>\n",
       "    <tr>\n",
       "      <th>1</th>\n",
       "      <td>28.419936</td>\n",
       "      <td>120</td>\n",
       "      <td>Action|Adventure|Science Fiction|Thriller</td>\n",
       "      <td>2015</td>\n",
       "      <td>138.0</td>\n",
       "      <td>348.16</td>\n",
       "      <td>May</td>\n",
       "      <td>210.16</td>\n",
       "    </tr>\n",
       "  </tbody>\n",
       "</table>\n",
       "</div>"
      ],
      "text/plain": [
       "   popularity  runtime                                     genres  \\\n",
       "0   32.985763      124  Action|Adventure|Science Fiction|Thriller   \n",
       "1   28.419936      120  Action|Adventure|Science Fiction|Thriller   \n",
       "\n",
       "   release_year  budget_adj  revenue_adj release_month   profit  \n",
       "0          2015       138.0      1392.45           Jun  1254.45  \n",
       "1          2015       138.0       348.16           May   210.16  "
      ]
     },
     "execution_count": 56,
     "metadata": {},
     "output_type": "execute_result"
    }
   ],
   "source": [
    "movies_df.head(2)"
   ]
  },
  {
   "cell_type": "markdown",
   "metadata": {},
   "source": [
    ">we will now group release years by decades and create a new column with that information"
   ]
  },
  {
   "cell_type": "code",
   "execution_count": 59,
   "metadata": {},
   "outputs": [],
   "source": [
    "#creation of new column for movie decades\n",
    "bin_edges=[1959,1969,1979,1989,1999,2009,2015]\n",
    "bin_names=['60s','70s','80s','90s','Early 2000s','2010~present']\n",
    "movies_df['movie_decades']=pd.cut(movies_df['release_year'],bin_edges,labels=bin_names)"
   ]
  },
  {
   "cell_type": "code",
   "execution_count": 62,
   "metadata": {},
   "outputs": [
    {
     "data": {
      "text/html": [
       "<div>\n",
       "<style scoped>\n",
       "    .dataframe tbody tr th:only-of-type {\n",
       "        vertical-align: middle;\n",
       "    }\n",
       "\n",
       "    .dataframe tbody tr th {\n",
       "        vertical-align: top;\n",
       "    }\n",
       "\n",
       "    .dataframe thead th {\n",
       "        text-align: right;\n",
       "    }\n",
       "</style>\n",
       "<table border=\"1\" class=\"dataframe\">\n",
       "  <thead>\n",
       "    <tr style=\"text-align: right;\">\n",
       "      <th></th>\n",
       "      <th>popularity</th>\n",
       "      <th>runtime</th>\n",
       "      <th>genres</th>\n",
       "      <th>release_year</th>\n",
       "      <th>budget_adj</th>\n",
       "      <th>revenue_adj</th>\n",
       "      <th>release_month</th>\n",
       "      <th>profit</th>\n",
       "      <th>movie_decades</th>\n",
       "    </tr>\n",
       "  </thead>\n",
       "  <tbody>\n",
       "    <tr>\n",
       "      <th>0</th>\n",
       "      <td>32.985763</td>\n",
       "      <td>124</td>\n",
       "      <td>Action|Adventure|Science Fiction|Thriller</td>\n",
       "      <td>2015</td>\n",
       "      <td>138.0</td>\n",
       "      <td>1392.45</td>\n",
       "      <td>Jun</td>\n",
       "      <td>1254.45</td>\n",
       "      <td>2010~present</td>\n",
       "    </tr>\n",
       "    <tr>\n",
       "      <th>1</th>\n",
       "      <td>28.419936</td>\n",
       "      <td>120</td>\n",
       "      <td>Action|Adventure|Science Fiction|Thriller</td>\n",
       "      <td>2015</td>\n",
       "      <td>138.0</td>\n",
       "      <td>348.16</td>\n",
       "      <td>May</td>\n",
       "      <td>210.16</td>\n",
       "      <td>2010~present</td>\n",
       "    </tr>\n",
       "  </tbody>\n",
       "</table>\n",
       "</div>"
      ],
      "text/plain": [
       "   popularity  runtime                                     genres  \\\n",
       "0   32.985763      124  Action|Adventure|Science Fiction|Thriller   \n",
       "1   28.419936      120  Action|Adventure|Science Fiction|Thriller   \n",
       "\n",
       "   release_year  budget_adj  revenue_adj release_month   profit movie_decades  \n",
       "0          2015       138.0      1392.45           Jun  1254.45  2010~present  \n",
       "1          2015       138.0       348.16           May   210.16  2010~present  "
      ]
     },
     "execution_count": 62,
     "metadata": {},
     "output_type": "execute_result"
    }
   ],
   "source": [
    "#inspect if changes are implemented\n",
    "movies_df.head(2)"
   ]
  },
  {
   "cell_type": "markdown",
   "metadata": {},
   "source": [
    "<a id='eda'></a>\n",
    "## Exploratory Data Analysis\n",
    "\n",
    "\n",
    "\n",
    "### Research Question 1 :What is the average movie popularity from year to year?\n"
   ]
  },
  {
   "cell_type": "code",
   "execution_count": 66,
   "metadata": {},
   "outputs": [
    {
     "data": {
      "image/png": "[encoded data removed]",
      "text/plain": [
       "<Figure size 720x360 with 1 Axes>"
      ]
     },
     "metadata": {},
     "output_type": "display_data"
    }
   ],
   "source": [
    "movies_df.groupby('movie_decades')['popularity'].mean().plot(figsize=(10,5),legend=True,title='plot showing the average popularity of movies by decades',ylabel='popularity score');"
   ]
  },
  {
   "cell_type": "markdown",
   "metadata": {},
   "source": [
    ">>The plot indicates that average popularity in movies has been increasing since the 60s.However,popularity took a huge dip in the 80 before increasing again in the 90s and has been increasing eversince.The 80s were the least popular  decade for movies while 2010 to present is the most popular decade "
   ]
  },
  {
   "cell_type": "markdown",
   "metadata": {},
   "source": [
    "### Research Question 2: What is average budget of movies from year to year\n",
    "###  Research Question3:What is the average revenue from year to year\n",
    "###    Research question4:What is the average profitability of movies from year to year "
   ]
  },
  {
   "cell_type": "code",
   "execution_count": null,
   "metadata": {},
   "outputs": [],
   "source": []
  },
  {
   "cell_type": "code",
   "execution_count": 75,
   "metadata": {},
   "outputs": [
    {
     "data": {
      "image/png": "[encoded data removed]",
      "text/plain": [
       "<Figure size 720x360 with 1 Axes>"
      ]
     },
     "metadata": {},
     "output_type": "display_data"
    },
    {
     "data": {
      "image/png": "[encoded data removed]",
      "text/plain": [
       "<Figure size 720x360 with 1 Axes>"
      ]
     },
     "metadata": {},
     "output_type": "display_data"
    }
   ],
   "source": [
    "\n",
    "movies_df.groupby('movie_decades')['profit'].mean().plot(figsize=(10,5),legend=True,ylabel='cost in millions',title='multiple line plot showing average cost of revenue and profit of movies by decade');\n",
    "movies_df.groupby('movie_decades')['revenue_adj'].mean().plot(figsize=(10,5),legend=True,ylabel='cost in millions',title='multiple line plot showing average cost of revenue and profit of movies by decade');\n",
    "plt.show()\n",
    "movies_df.groupby('movie_decades')['budget_adj'].mean().plot(figsize=(10,5),legend=True,ylabel='cost in millions',title='plot showing average cost of budget of movies by decade',color='r');"
   ]
  },
  {
   "cell_type": "markdown",
   "metadata": {},
   "source": [
    ">>Profit\n",
    ">\n",
    ">the 70s recorded the highest profits followed by the 60s .The profit took a huge nosedive in the 80s and continued till its lowest in the early 2000s.The 2010 to present decade has seen a slight increase in profits\n",
    ">>Revenue\n",
    ">\n",
    ">the line for revenue is similar to the line for profit.The 60s were the highest for revenue followed by the 70s before falling to drastically in the 80s.The revenue slightly increased in the 90s before falling to its lowest in the early 2000s.The revenue has seen slight increase in since 2010\n",
    ">>Budget\n",
    ">\n",
    ">Average budget was lowest in the 70s followed by the 80s before shooting up in the 90s and its all time high in the early 2000s before slightly dropping in the 2010 to present decade"
   ]
  },
  {
   "cell_type": "markdown",
   "metadata": {},
   "source": [
    "### Research question 5:  What genres are the most popular from year to year?"
   ]
  },
  {
   "cell_type": "markdown",
   "metadata": {},
   "source": [
    ">For most popular genres, we will limit to the top four most popular genres.The 75 percentile of the popularity column will be used as benchmark for popularity"
   ]
  },
  {
   "cell_type": "code",
   "execution_count": 77,
   "metadata": {},
   "outputs": [
    {
     "data": {
      "text/plain": [
       "count    3854.000000\n",
       "mean        1.191554\n",
       "std         1.475162\n",
       "min         0.001117\n",
       "25%         0.462367\n",
       "50%         0.797511\n",
       "75%         1.368324\n",
       "max        32.985763\n",
       "Name: popularity, dtype: float64"
      ]
     },
     "execution_count": 77,
     "metadata": {},
     "output_type": "execute_result"
    }
   ],
   "source": [
    "#to check the 75 percentile of popularity column\n",
    "movies_df['popularity'].describe()"
   ]
  },
  {
   "cell_type": "code",
   "execution_count": 79,
   "metadata": {},
   "outputs": [],
   "source": [
    "# popularity benchmark\n",
    "popularity_benchmark=1.368 "
   ]
  },
  {
   "cell_type": "code",
   "execution_count": 88,
   "metadata": {},
   "outputs": [],
   "source": [
    "#this groups the popular genres by movie decade\n",
    "sixties_popular_movies=movies_df.query( 'popularity>=@popularity_benchmark & movie_decades==\"60s\" ' )\n",
    "seventies_popular_movies=movies_df.query('popularity>=@popularity_benchmark & movie_decades==\"70s\" ')\n",
    "eighties_popular_movies=movies_df.query('popularity>=@popularity_benchmark & movie_decades==\"80s\" ')\n",
    "nineties_popular_movies=movies_df.query( 'popularity>=@popularity_benchmark & movie_decades==\"90s\" ')\n",
    "early2000s_popular_movies=movies_df.query('popularity>=@popularity_benchmark & movie_decades==\"Early 2000s\" ')\n",
    "present_popular_movies=movies_df.query('popularity>=@popularity_benchmark & movie_decades==\"2010~present\" ')"
   ]
  },
  {
   "cell_type": "code",
   "execution_count": 89,
   "metadata": {},
   "outputs": [
    {
     "data": {
      "image/png": "[encoded data removed]",
      "text/plain": [
       "<Figure size 1080x1080 with 6 Axes>"
      ]
     },
     "metadata": {},
     "output_type": "display_data"
    }
   ],
   "source": [
    "\n",
    "fig,axs=plt.subplots(2,3)#for laying out our plots in our picture frame\n",
    "\n",
    "#This is for plotting bar graphs for each decade.However most rows have multiple genres seperated by '|' so we first have to split them\n",
    "sixties_popular_genres=pd.Series(sixties_popular_movies['genres'].str.cat(sep='|').split('|')).value_counts().nlargest(4).plot(kind='bar',ax=axs[0][0],figsize=(15,15),title='most popular genres in the 60s',)\n",
    "seventies_popular_genres=pd.Series(seventies_popular_movies['genres'].str.cat(sep='|').split('|')).value_counts().nlargest(4).plot(kind='bar',ax=axs[0][1],figsize=(15,15),title='most popular genres in the 70s')\n",
    "eighties_popular_genres=pd.Series(eighties_popular_movies['genres'].str.cat(sep='|').split('|')).value_counts().nlargest(4).plot(kind='bar',ax=axs[0][2],figsize=(15,15),title='most popular genres in the 80s')\n",
    "nineties_popular_genres=pd.Series(nineties_popular_movies['genres'].str.cat(sep='|').split('|')).value_counts().nlargest(4).plot(kind='bar',ax=axs[1][0],figsize=(15,15),title='most popular genres in the 90s')\n",
    "early2000s_popular_genres=pd.Series(early2000s_popular_movies['genres'].str.cat(sep='|').split('|')).value_counts().nlargest(4).plot(kind='bar',ax=axs[1][1],figsize=(15,15),title='most popular genres in the early 2000s')\n",
    "present_popular_genres=pd.Series(present_popular_movies['genres'].str.cat(sep='|').split('|')).value_counts().nlargest(4).plot(kind='bar',ax=axs[1][2],figsize=(15,15),title='most popular genres in the 2010~present')"
   ]
  },
  {
   "cell_type": "markdown",
   "metadata": {},
   "source": [
    ">>Our charts indicate that the most popular genres have been consistent over the different decades.The popular genres include adventure,action,thriller,comedy and drama"
   ]
  },
  {
   "cell_type": "markdown",
   "metadata": {},
   "source": [
    "### Research question 6: What genres are the most profitable from year to year"
   ]
  },
  {
   "cell_type": "markdown",
   "metadata": {},
   "source": [
    ">We will limit our genres to the top 4"
   ]
  },
  {
   "cell_type": "code",
   "execution_count": 90,
   "metadata": {},
   "outputs": [],
   "source": [
    "#lets group movie decades by profit first\n",
    "sixties_profitable_movies=movies_df.query('profit>0 & movie_decades==\"60s\"')\n",
    "seventies_profitable_movies=movies_df.query('profit>0 & movie_decades==\"70s\"')\n",
    "eighties_profitable_movies=movies_df.query('profit>0 & movie_decades==\"80s\"')\n",
    "nineties_profitable_movies=movies_df.query('profit>0 & movie_decades==\"90s\"')\n",
    "early2000s_profitable_movies=movies_df.query('profit>0 &  movie_decades==\"Early 2000s\"')\n",
    "present_profitable_movies=movies_df.query('profit>0 & movie_decades==\"2010~present\"')"
   ]
  },
  {
   "cell_type": "code",
   "execution_count": 100,
   "metadata": {},
   "outputs": [
    {
     "data": {
      "image/png": "[encoded data removed]",
      "text/plain": [
       "<Figure size 1080x1080 with 6 Axes>"
      ]
     },
     "metadata": {},
     "output_type": "display_data"
    }
   ],
   "source": [
    "fig,axs=plt.subplots(2,3)#for laying out our charts in one picture\n",
    "\n",
    "#This is for plotting pie charts graphs for each decade.However most rows have multiple genres seperated by '|' so we first have to split them\n",
    "sixties_genres=pd.Series(sixties_profitable_movies['genres'].str.cat(sep='|').split('|')).value_counts().nlargest(4).plot(kind='pie',ax=axs[0][0],figsize=(15,15),legend=True,labels=None,title='most profitable genres in the 60s',ylabel='')\n",
    "seventies_genres=pd.Series(seventies_profitable_movies['genres'].str.cat(sep='|').split('|')).value_counts().nlargest(4).plot(kind='pie',ax=axs[0][1],figsize=(15,15),legend=True,labels=None,title='most profitable genres in the 70s',ylabel='')\n",
    "eighties_genres=pd.Series(eighties_profitable_movies['genres'].str.cat(sep='|').split('|')).value_counts().nlargest(4).plot(kind='pie',ax=axs[0][2],figsize=(15,15),legend=True,labels=None,title='most profitable genres in the 80s',ylabel='')\n",
    "nineties_genres=pd.Series(nineties_profitable_movies['genres'].str.cat(sep='|').split('|')).value_counts().nlargest(4).plot(kind='pie',ax=axs[1][0],figsize=(15,15),legend=True,labels=None,title='most profitable genres in the 90s',ylabel='')\n",
    "early2000s_genres=pd.Series(early2000s_profitable_movies['genres'].str.cat(sep='|').split('|')).value_counts().nlargest(4).plot(kind='pie',ax=axs[1][1],figsize=(15,15),legend=True,labels=None,title='most profitable genres in the early 2000s',ylabel='')\n",
    "present_genres=pd.Series(present_profitable_movies['genres'].str.cat(sep='|').split('|')).value_counts().nlargest(4).plot(kind='pie',ax=axs[1][2],figsize=(15,15),legend=True,labels=None,title='most profitable genres in the 2010~present',ylabel='')\n"
   ]
  },
  {
   "cell_type": "markdown",
   "metadata": {},
   "source": [
    ">The chart indicate that the most profitable genres are similar across the decades i.e. drama,comedy,thriller,action and adventure"
   ]
  },
  {
   "cell_type": "markdown",
   "metadata": {},
   "source": [
    "### Research question 7: Which release months are the most profitable from year to year"
   ]
  },
  {
   "cell_type": "code",
   "execution_count": 104,
   "metadata": {},
   "outputs": [],
   "source": [
    "sixties_movies=movies_df.query('movie_decades==\"60s\"')\n",
    "seventies_movies=movies_df.query('movie_decades==\"70s\"')\n",
    "eighties_movies=movies_df.query('movie_decades==\"80s\"')\n",
    "nineties_movies=movies_df.query('movie_decades==\"90s\"')\n",
    "early2000s_movies=movies_df.query('movie_decades==\"Early 2000s\"')\n",
    "present_decade_movies=movies_df.query('movie_decades==\"2010~present\"')"
   ]
  },
  {
   "cell_type": "code",
   "execution_count": 109,
   "metadata": {},
   "outputs": [
    {
     "data": {
      "image/png": "[encoded data removed]",
      "text/plain": [
       "<Figure size 1080x1080 with 6 Axes>"
      ]
     },
     "metadata": {},
     "output_type": "display_data"
    }
   ],
   "source": [
    "xlabel='release_months'\n",
    "ylabel='average profit in millions'\n",
    "fig,axs=plt.subplots(2,3)\n",
    "\n",
    "sixties_movies.groupby('release_month')['profit'].mean().nlargest(4).plot(ax=axs[0][0],kind='bar',figsize=(15,15),xlabel=xlabel,ylabel=ylabel,title='most profitable release months in the 60s');\n",
    "seventies_movies.groupby('release_month')['profit'].mean().nlargest(4).plot(ax=axs[0][1],kind='bar',figsize=(15,15),xlabel=xlabel,ylabel=ylabel,title='most profitable release months in the 70s');\n",
    "eighties_movies.groupby('release_month')['profit'].mean().nlargest(4).plot(ax=axs[0][2],kind='bar',figsize=(15,15),xlabel=xlabel,ylabel=ylabel,title='most profitable release months in the 80s');\n",
    "nineties_movies.groupby('release_month')['profit'].mean().nlargest(4).plot(ax=axs[1][0],kind='bar',figsize=(15,15),xlabel=xlabel,ylabel=ylabel,title='most profitable release months in the 90s');\n",
    "early2000s_movies.groupby('release_month')['profit'].mean().nlargest(4).plot(ax=axs[1][1],kind='bar',figsize=(15,15),xlabel=xlabel,ylabel=ylabel,title='most profitable release months in the early 2000s');\n",
    "present_decade_movies.groupby('release_month')['profit'].mean().nlargest(4).plot(ax=axs[1][2],kind='bar',figsize=(15,15),xlabel=xlabel,ylabel=ylabel,title='most profitable release months in the 2010~present');"
   ]
  },
  {
   "cell_type": "markdown",
   "metadata": {},
   "source": [
    "The charts show that most profitable months to release movies across the decades are May,June,July,November and December"
   ]
  },
  {
   "cell_type": "markdown",
   "metadata": {},
   "source": [
    "### Research question 8: Which average runtime is the most profitable rom year to year"
   ]
  },
  {
   "cell_type": "markdown",
   "metadata": {},
   "source": [
    ">>lets come up with two groups:short runtime and long runtime.These will be split along the median"
   ]
  },
  {
   "cell_type": "code",
   "execution_count": 110,
   "metadata": {},
   "outputs": [],
   "source": [
    "#calculate the median \n",
    "runtime_median=movies_df['runtime'].median()"
   ]
  },
  {
   "cell_type": "code",
   "execution_count": 112,
   "metadata": {},
   "outputs": [],
   "source": [
    "#split the movies into those with short and long runtime\n",
    "short_runtime=movies_df.query('runtime<@runtime_median')\n",
    "long_runtime=movies_df.query('runtime>=@runtime_median')\n"
   ]
  },
  {
   "cell_type": "code",
   "execution_count": 113,
   "metadata": {},
   "outputs": [
    {
     "data": {
      "text/plain": [
       "movie_decades\n",
       "60s             376.378750\n",
       "70s             140.375227\n",
       "80s              66.786773\n",
       "90s              56.758705\n",
       "Early 2000s      49.332497\n",
       "2010~present     62.739291\n",
       "Name: profit, dtype: float64"
      ]
     },
     "execution_count": 113,
     "metadata": {},
     "output_type": "execute_result"
    }
   ],
   "source": [
    "#for the short_runtime movies group by the decade of the movie and the average of profits\n",
    "short_runtime.groupby('movie_decades')['profit'].mean()"
   ]
  },
  {
   "cell_type": "code",
   "execution_count": 115,
   "metadata": {},
   "outputs": [
    {
     "data": {
      "text/plain": [
       "movie_decades\n",
       "60s             216.263968\n",
       "70s             301.281011\n",
       "80s             135.896171\n",
       "90s             124.089898\n",
       "Early 2000s     103.047583\n",
       "2010~present    112.945753\n",
       "Name: profit, dtype: float64"
      ]
     },
     "execution_count": 115,
     "metadata": {},
     "output_type": "execute_result"
    }
   ],
   "source": [
    "##for the long_runtime movies group by the decade of the movie and the average of profits\n",
    "long_runtime.groupby('movie_decades')['profit'].mean()"
   ]
  },
  {
   "cell_type": "code",
   "execution_count": 121,
   "metadata": {},
   "outputs": [],
   "source": [
    "xValues_list=['60s','70s','80s','90s','early 2000s  ','   2010~present']#values for x axis\n",
    "short_runtime_mean_profit=[376.38,140.38,66.78,56.76,49.33,62.74] #average profits of movies with short runtime by decade\n",
    "long_runtime_mean_profit=[216.26,301.28,135.90,124.09,103.05,112.95]#average profits of movies with long runtime by decade\n",
    "\n"
   ]
  },
  {
   "cell_type": "code",
   "execution_count": 123,
   "metadata": {},
   "outputs": [
    {
     "data": {
      "image/png": "[encoded data removed]",
      "text/plain": [
       "<Figure size 432x288 with 1 Axes>"
      ]
     },
     "metadata": {},
     "output_type": "display_data"
    }
   ],
   "source": [
    "#creating the multiple bar graph for comparing average profits of short and long runtime movies\n",
    "x_axis=np.arange(len(xValues_list))\n",
    "width=0.15\n",
    "\n",
    "plt.bar(x_axis,short_runtime_mean_profit,color='r',width=width,edgecolor='black',label='Short runtime')\n",
    "plt.bar(x_axis+width,long_runtime_mean_profit,color='b',width=width,edgecolor='black',label='long runtime')\n",
    "\n",
    "plt.xticks(x_axis+width/2,xValues_list)\n",
    "plt.xlabel('movie decades')\n",
    "plt.ylabel('average profit in millions')\n",
    "plt.title('average profit by runtime over different movie decades')\n",
    "plt.legend();"
   ]
  },
  {
   "cell_type": "markdown",
   "metadata": {},
   "source": [
    ">Movies with long runtimes made more average profit except in the 60s decade"
   ]
  },
  {
   "cell_type": "markdown",
   "metadata": {},
   "source": [
    "<a id='conclusions'></a>\n",
    "## Conclusions\n",
    "\n",
    "#### What is the average movie popularity from year to year\n",
    "> Our analysis indicates that popularity of movies has been drastically increasing since the 80s.Therefore,this is good  time to make movies as appetite is high.\n",
    ">\n",
    "#### What is average budget ,revenue and profitability of movies from year to year   \n",
    ">Key findings show that revenue and profit from movies has gone down particulaly between the 80s to the early 2000s since the 60s and the 70s although popularity of movies has been increasing.Analysis of average budget cost indicate that average budget costs shot up during the same period that revenue went down.It is possible that the increase in production cost affected the profits negatively.\n",
    "#### What genres are the most popular from year to year\n",
    ">The most popular genres across the years have continued to include Adventure,Action,Thriller,Comedy and Drama.Therefore,production companies are advised to make more of the abovementioned genres in order to mantain the popularity in movies.\n",
    "#### What genres are the most profitable from year to year\n",
    ">The most profitable  genres are the same as as the popular ones i.e Adventure,Action,Thriller,Comedy and Drama.Thus production companies should probably invest more in the mentioned genres to generate profits from movies\n",
    "#### Which release months are the most profitable from year to year\n",
    ">The most profitable release months over the decades are May,June,July,November and December.This is likely because May to July are Summer holiday months in the Nothern hemisphere while November and December hosts prominent holiday months and it is during holiday seasons when most people consume movies. Therefore,production companies are advised to aim to release their movies during the holiday months.\n",
    "#### Which average runtime is the most profitable from year to year\n",
    ">Our analysis show that movies that are at least around 2 hours tend to do better in terms of profit.\n",
    "\n",
    "#### Key limitations\n",
    "- Over half of the rows were dropped due to missing values and this likely affected the results\n",
    "- The cast,the directors and production companies were not included.These popularity of these may affect popularity and profitability of a movie\n",
    "\n",
    "\n",
    "\n"
   ]
  },
  {
   "cell_type": "code",
   "execution_count": null,
   "metadata": {
    "collapsed": true
   },
   "outputs": [],
   "source": []
  }
 ],
 "metadata": {
  "kernelspec": {
   "display_name": "Python 3",
   "language": "python",
   "name": "python3"
  },
  "language_info": {
   "codemirror_mode": {
    "name": "ipython",
    "version": 3
   },
   "file_extension": ".py",
   "mimetype": "text/x-python",
   "name": "python",
   "nbconvert_exporter": "python",
   "pygments_lexer": "ipython3",
   "version": "3.8.8"
  }
 },
 "nbformat": 4,
 "nbformat_minor": 2
}
